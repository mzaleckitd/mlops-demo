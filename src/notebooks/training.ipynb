{
 "cells": [
  {
   "cell_type": "code",
   "execution_count": 29,
   "metadata": {
    "collapsed": true
   },
   "outputs": [],
   "source": [
    "import datetime\n",
    "import os\n",
    "import pathlib\n",
    "from typing import Union\n",
    "\n",
    "import mlflow\n",
    "import numpy as np\n",
    "import yaml\n",
    "from tensorflow import keras\n",
    "from tensorflow.keras import layers"
   ]
  },
  {
   "cell_type": "code",
   "execution_count": 7,
   "outputs": [
    {
     "data": {
      "text/plain": "PosixPath('/Users/marek.zalecki/Projects/ml-serco/src/notebooks')"
     },
     "execution_count": 7,
     "metadata": {},
     "output_type": "execute_result"
    }
   ],
   "source": [
    "cwd = pathlib.Path(os.getcwd())\n",
    "cwd.absolute()"
   ],
   "metadata": {
    "collapsed": false
   }
  },
  {
   "cell_type": "code",
   "execution_count": 10,
   "outputs": [],
   "source": [
    "def read_yaml_config(config_filepath: Union[str, pathlib.Path]):\n",
    "    with open(config_filepath) as yaml_file:\n",
    "        config_ = yaml.safe_load(yaml_file)\n",
    "    return config_\n",
    "\n",
    "\n",
    "config_filepath = '../../config/mlflow.yaml'\n",
    "config = read_yaml_config(config_filepath)"
   ],
   "metadata": {
    "collapsed": false
   }
  },
  {
   "cell_type": "code",
   "execution_count": 23,
   "outputs": [
    {
     "name": "stderr",
     "output_type": "stream",
     "text": [
      "2023/04/27 15:00:48 INFO mlflow.tracking.fluent: Autologging successfully enabled for tensorflow.\n"
     ]
    }
   ],
   "source": [
    "dirpath = pathlib.Path(f\"../../{config['mlflow']['dirpath']}\").resolve()\n",
    "mlflow.set_tracking_uri(f\"file://{dirpath}\")\n",
    "mlflow.autolog()"
   ],
   "metadata": {
    "collapsed": false
   }
  },
  {
   "cell_type": "code",
   "execution_count": 34,
   "outputs": [
    {
     "name": "stdout",
     "output_type": "stream",
     "text": [
      "x_train shape: (60000, 28, 28, 1)\n",
      "60000 train samples\n",
      "10000 test samples\n"
     ]
    }
   ],
   "source": [
    "# Model / data parameters\n",
    "num_classes = 10\n",
    "input_shape = (28, 28, 1)\n",
    "\n",
    "# Load the data and split it between train and test sets\n",
    "(x_train, y_train), (x_test, y_test) = keras.datasets.mnist.load_data()\n",
    "\n",
    "# Scale images to the [0, 1] range\n",
    "x_train = x_train.astype(\"float32\") / 255\n",
    "x_test = x_test.astype(\"float32\") / 255\n",
    "# Make sure images have shape (28, 28, 1)\n",
    "x_train = np.expand_dims(x_train, -1)\n",
    "x_test = np.expand_dims(x_test, -1)\n",
    "print(\"x_train shape:\", x_train.shape)\n",
    "print(x_train.shape[0], \"train samples\")\n",
    "print(x_test.shape[0], \"test samples\")\n",
    "\n",
    "\n",
    "# convert class vectors to binary class matrices\n",
    "y_train = keras.utils.to_categorical(y_train, num_classes)\n",
    "y_test = keras.utils.to_categorical(y_test, num_classes)"
   ],
   "metadata": {
    "collapsed": false
   }
  },
  {
   "cell_type": "code",
   "execution_count": 35,
   "outputs": [
    {
     "name": "stdout",
     "output_type": "stream",
     "text": [
      "Model: \"sequential_2\"\n",
      "_________________________________________________________________\n",
      " Layer (type)                Output Shape              Param #   \n",
      "=================================================================\n",
      " conv2d_4 (Conv2D)           (None, 26, 26, 32)        320       \n",
      "                                                                 \n",
      " max_pooling2d_4 (MaxPooling  (None, 13, 13, 32)       0         \n",
      " 2D)                                                             \n",
      "                                                                 \n",
      " conv2d_5 (Conv2D)           (None, 11, 11, 64)        18496     \n",
      "                                                                 \n",
      " max_pooling2d_5 (MaxPooling  (None, 5, 5, 64)         0         \n",
      " 2D)                                                             \n",
      "                                                                 \n",
      " flatten_2 (Flatten)         (None, 1600)              0         \n",
      "                                                                 \n",
      " dropout_2 (Dropout)         (None, 1600)              0         \n",
      "                                                                 \n",
      " dense_2 (Dense)             (None, 10)                16010     \n",
      "                                                                 \n",
      "=================================================================\n",
      "Total params: 34,826\n",
      "Trainable params: 34,826\n",
      "Non-trainable params: 0\n",
      "_________________________________________________________________\n"
     ]
    }
   ],
   "source": [
    "model = keras.Sequential(\n",
    "    [\n",
    "        keras.Input(shape=input_shape),\n",
    "        layers.Conv2D(32, kernel_size=(3, 3), activation=\"relu\"),\n",
    "        layers.MaxPooling2D(pool_size=(2, 2)),\n",
    "        layers.Conv2D(64, kernel_size=(3, 3), activation=\"relu\"),\n",
    "        layers.MaxPooling2D(pool_size=(2, 2)),\n",
    "        layers.Flatten(),\n",
    "        layers.Dropout(0.5),\n",
    "        layers.Dense(num_classes, activation=\"softmax\"),\n",
    "    ]\n",
    ")\n",
    "\n",
    "model.summary()"
   ],
   "metadata": {
    "collapsed": false
   }
  },
  {
   "cell_type": "code",
   "execution_count": 36,
   "outputs": [],
   "source": [
    "def register_experiment(experiment_name: str):\n",
    "    experiment_ = mlflow.get_experiment_by_name(experiment_name)\n",
    "    if experiment_ is None:\n",
    "        _ = mlflow.create_experiment(name=experiment_name)\n",
    "        experiment_ = mlflow.get_experiment_by_name(experiment_name)\n",
    "\n",
    "    return experiment_\n",
    "\n",
    "\n",
    "experiment = register_experiment('notebooks')"
   ],
   "metadata": {
    "collapsed": false
   }
  },
  {
   "cell_type": "code",
   "execution_count": 37,
   "outputs": [
    {
     "name": "stdout",
     "output_type": "stream",
     "text": [
      "Epoch 1/15\n",
      "1688/1688 [==============================] - 10s 6ms/step - loss: 0.2226 - accuracy: 0.9321 - val_loss: 0.0621 - val_accuracy: 0.9825\n",
      "Epoch 2/15\n",
      "1688/1688 [==============================] - 9s 6ms/step - loss: 0.0861 - accuracy: 0.9734 - val_loss: 0.0403 - val_accuracy: 0.9893\n",
      "Epoch 3/15\n",
      "1688/1688 [==============================] - 10s 6ms/step - loss: 0.0662 - accuracy: 0.9801 - val_loss: 0.0386 - val_accuracy: 0.9888\n",
      "Epoch 4/15\n",
      "1688/1688 [==============================] - 10s 6ms/step - loss: 0.0568 - accuracy: 0.9817 - val_loss: 0.0354 - val_accuracy: 0.9915\n",
      "Epoch 5/15\n",
      "1688/1688 [==============================] - 10s 6ms/step - loss: 0.0513 - accuracy: 0.9837 - val_loss: 0.0321 - val_accuracy: 0.9910\n",
      "Epoch 6/15\n",
      "1688/1688 [==============================] - 10s 6ms/step - loss: 0.0449 - accuracy: 0.9860 - val_loss: 0.0334 - val_accuracy: 0.9912\n",
      "Epoch 7/15\n",
      "1688/1688 [==============================] - 10s 6ms/step - loss: 0.0420 - accuracy: 0.9867 - val_loss: 0.0308 - val_accuracy: 0.9927\n",
      "Epoch 8/15\n",
      "1688/1688 [==============================] - 10s 6ms/step - loss: 0.0387 - accuracy: 0.9875 - val_loss: 0.0295 - val_accuracy: 0.9920\n",
      "Epoch 9/15\n",
      "1688/1688 [==============================] - 10s 6ms/step - loss: 0.0376 - accuracy: 0.9881 - val_loss: 0.0302 - val_accuracy: 0.9923\n",
      "Epoch 10/15\n",
      "1688/1688 [==============================] - 11s 6ms/step - loss: 0.0344 - accuracy: 0.9886 - val_loss: 0.0284 - val_accuracy: 0.9918\n",
      "Epoch 11/15\n",
      "1688/1688 [==============================] - 11s 6ms/step - loss: 0.0323 - accuracy: 0.9896 - val_loss: 0.0282 - val_accuracy: 0.9922\n",
      "Epoch 12/15\n",
      "1688/1688 [==============================] - 11s 6ms/step - loss: 0.0308 - accuracy: 0.9899 - val_loss: 0.0324 - val_accuracy: 0.9917\n",
      "Epoch 13/15\n",
      "1688/1688 [==============================] - 11s 6ms/step - loss: 0.0299 - accuracy: 0.9900 - val_loss: 0.0297 - val_accuracy: 0.9918\n",
      "Epoch 14/15\n",
      "1688/1688 [==============================] - 11s 6ms/step - loss: 0.0272 - accuracy: 0.9913 - val_loss: 0.0292 - val_accuracy: 0.9915\n",
      "Epoch 15/15\n",
      "1688/1688 [==============================] - 11s 6ms/step - loss: 0.0255 - accuracy: 0.9915 - val_loss: 0.0312 - val_accuracy: 0.9917\n",
      "1/1 [==============================] - 0s 20ms/step\n"
     ]
    },
    {
     "name": "stderr",
     "output_type": "stream",
     "text": [
      "WARNING:absl:Found untraced functions such as _jit_compiled_convolution_op, _jit_compiled_convolution_op while saving (showing 2 of 2). These functions will not be directly callable after loading.\n"
     ]
    },
    {
     "name": "stdout",
     "output_type": "stream",
     "text": [
      "INFO:tensorflow:Assets written to: /var/folders/tv/6g181qv92bn3kk8d9fkwpq3h0000gn/T/tmpjlc2xmi9/model/data/model/assets\n"
     ]
    },
    {
     "name": "stderr",
     "output_type": "stream",
     "text": [
      "INFO:tensorflow:Assets written to: /var/folders/tv/6g181qv92bn3kk8d9fkwpq3h0000gn/T/tmpjlc2xmi9/model/data/model/assets\n"
     ]
    },
    {
     "name": "stdout",
     "output_type": "stream",
     "text": [
      "Test loss: 0.022125694900751114\n",
      "Test accuracy: 0.9936000108718872\n"
     ]
    }
   ],
   "source": [
    "with mlflow.start_run(\n",
    "        run_name=datetime.datetime.now().isoformat(),\n",
    "        experiment_id=experiment.experiment_id,\n",
    "        tags={\"version\": \"v1\", \"priority\": \"P1\"},\n",
    "        description=\"mnist-test-runtime\",\n",
    "):\n",
    "\n",
    "    batch_size = 32\n",
    "    epochs = 15\n",
    "    model.compile(loss=\"categorical_crossentropy\", optimizer=\"adam\", metrics=[\"accuracy\"])\n",
    "    model.fit(x_train, y_train, batch_size=batch_size, epochs=epochs, validation_split=0.1)\n",
    "\n",
    "    score = model.evaluate(x_test, y_test, verbose=0)\n",
    "    print(\"Test loss:\", score[0])\n",
    "    print(\"Test accuracy:\", score[1])"
   ],
   "metadata": {
    "collapsed": false
   }
  },
  {
   "cell_type": "code",
   "execution_count": 27,
   "outputs": [],
   "source": [],
   "metadata": {
    "collapsed": false
   }
  }
 ],
 "metadata": {
  "kernelspec": {
   "display_name": "Python 3",
   "language": "python",
   "name": "python3"
  },
  "language_info": {
   "codemirror_mode": {
    "name": "ipython",
    "version": 2
   },
   "file_extension": ".py",
   "mimetype": "text/x-python",
   "name": "python",
   "nbconvert_exporter": "python",
   "pygments_lexer": "ipython2",
   "version": "2.7.6"
  }
 },
 "nbformat": 4,
 "nbformat_minor": 0
}
